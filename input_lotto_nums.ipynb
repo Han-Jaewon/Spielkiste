{
 "cells": [
  {
   "cell_type": "code",
   "execution_count": 3,
   "id": "80621c11-c6c0-4947-9ffd-899219c106a9",
   "metadata": {},
   "outputs": [
    {
     "name": "stdin",
     "output_type": "stream",
     "text": [
      "행운의 번호를 입력해 주세요(예: 4 13 17):  1 2 3\n"
     ]
    },
    {
     "name": "stdout",
     "output_type": "stream",
     "text": [
      "A: 행운의 로또 번호는 [1, 2, 3, 10, 14, 34]입니다.\n",
      "B: 행운의 로또 번호는 [1, 2, 3, 5, 15, 33]입니다.\n",
      "C: 행운의 로또 번호는 [1, 2, 3, 29, 36, 44]입니다.\n",
      "D: 행운의 로또 번호는 [1, 2, 3, 7, 11, 14]입니다.\n",
      "E: 행운의 로또 번호는 [1, 2, 3, 18, 33, 34]입니다.\n"
     ]
    }
   ],
   "source": [
    "import random\n",
    "\n",
    "# 랜덤 번호 추출\n",
    "def random_pop(data):\n",
    "\tnumber = random.choice(data)\n",
    "\tdata.remove(number)\n",
    "\treturn number\n",
    "\n",
    "nums = list(map(int, input(\"행운의 번호를 입력해 주세요(예: 4 13 17): \").split(\" \")))  \n",
    "\n",
    "for i in ['A', 'B', 'C', 'D', 'E']:\n",
    "    data = []\n",
    "    for j in range(1, 46):\n",
    "        data.append(j)\n",
    "    \n",
    "    result = []\n",
    "    for k in nums:\n",
    "        data.remove(k)\n",
    "        result.append(k)\n",
    "\n",
    "    for l in range(6-len(nums)):\n",
    "        result.append(random_pop(data))\n",
    "    print(f\"{i}: 행운의 로또 번호는 {sorted(result)}입니다.\")"
   ]
  }
 ],
 "metadata": {
  "kernelspec": {
   "display_name": "Python 3 (ipykernel)",
   "language": "python",
   "name": "python3"
  },
  "language_info": {
   "codemirror_mode": {
    "name": "ipython",
    "version": 3
   },
   "file_extension": ".py",
   "mimetype": "text/x-python",
   "name": "python",
   "nbconvert_exporter": "python",
   "pygments_lexer": "ipython3",
   "version": "3.11.7"
  }
 },
 "nbformat": 4,
 "nbformat_minor": 5
}
